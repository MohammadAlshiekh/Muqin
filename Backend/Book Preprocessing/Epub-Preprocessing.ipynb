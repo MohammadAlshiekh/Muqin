{
 "cells": [
  {
   "cell_type": "code",
   "execution_count": null,
   "metadata": {},
   "outputs": [],
   "source": [
    "epub_path = '../../Resources/مجنون ليلى.epub'\n",
    "book_title = 'مجنون ليلى'"
   ]
  },
  {
   "cell_type": "markdown",
   "metadata": {},
   "source": [
    "## This function is general for any EPUB file"
   ]
  },
  {
   "cell_type": "code",
   "execution_count": null,
   "metadata": {},
   "outputs": [],
   "source": [
    "import zipfile\n",
    "from bs4 import BeautifulSoup\n",
    "import os\n",
    "\n",
    "def extract_and_save_chapters(epub_path, output_directory):\n",
    "    if not os.path.exists(output_directory):\n",
    "        os.makedirs(output_directory)\n",
    "\n",
    "    with zipfile.ZipFile(epub_path, 'r') as zip_ref:\n",
    "        zip_ref.extractall(\"temp_epub_extraction\")\n",
    "\n",
    "    chapter_counter = 1\n",
    "    for root, dirs, files in sorted(os.walk(\"temp_epub_extraction\")):\n",
    "        for file in sorted(files):\n",
    "            if file.endswith('.html') or file.endswith('.xhtml'):\n",
    "                file_path = os.path.join(root, file)\n",
    "                with open(file_path, 'r', encoding='utf-8') as f:\n",
    "                    soup = BeautifulSoup(f, 'lxml')\n",
    "                    texts = soup.get_text(separator='\\n', strip=True)\n",
    "                    chapter_filename = f\"chapter_{chapter_counter}.txt\"\n",
    "                    chapter_path = os.path.join(output_directory, chapter_filename)\n",
    "                    with open(chapter_path, 'w', encoding='utf-8') as chapter_file:\n",
    "                        chapter_file.write(texts)\n",
    "                    chapter_counter += 1\n",
    "    \n",
    "    # Cleanup extraction directory\n",
    "    for root, dirs, files in os.walk(\"temp_epub_extraction\", topdown=False):\n",
    "        for name in files:\n",
    "            os.remove(os.path.join(root, name))\n",
    "        for name in dirs:\n",
    "            os.rmdir(os.path.join(root, name))\n",
    "    os.rmdir(\"temp_epub_extraction\")\n",
    "\n",
    "# Specify the directory where you want to save the chapters\n",
    "output_directory = f'./{book_title}_chapters'\n",
    "\n",
    "extract_and_save_chapters(epub_path, output_directory)"
   ]
  }
 ],
 "metadata": {
  "language_info": {
   "name": "python"
  }
 },
 "nbformat": 4,
 "nbformat_minor": 2
}
