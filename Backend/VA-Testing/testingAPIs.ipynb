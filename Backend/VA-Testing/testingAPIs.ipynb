{
 "cells": [
  {
   "cell_type": "code",
   "execution_count": 40,
   "metadata": {},
   "outputs": [
    {
     "name": "stderr",
     "output_type": "stream",
     "text": [
      "\n",
      "[notice] A new release of pip is available: 23.3.1 -> 23.3.2\n",
      "[notice] To update, run: C:\\Users\\ASUS\\AppData\\Local\\Microsoft\\WindowsApps\\PythonSoftwareFoundation.Python.3.9_qbz5n2kfra8p0\\python.exe -m pip install --upgrade pip\n"
     ]
    }
   ],
   "source": [
    "!pip install pdf2image ArabicOcr -q"
   ]
  },
  {
   "cell_type": "code",
   "execution_count": 37,
   "metadata": {},
   "outputs": [],
   "source": [
    "pdf=\"OnePage.pdf\"\n",
    "from pdf2image import convert_from_path\n",
    "\n",
    "pdf_path = pdf\n",
    "images = convert_from_path(pdf_path)\n",
    "for i, image in enumerate(images):\n",
    "    fname = \"./Book/page\" + str(i) + \".png\"\n",
    "    image.save(fname, \"PNG\")"
   ]
  },
  {
   "cell_type": "code",
   "execution_count": 49,
   "metadata": {},
   "outputs": [
    {
     "name": "stderr",
     "output_type": "stream",
     "text": [
      "Using CPU. Note: This module is much faster with a GPU.\n"
     ]
    },
    {
     "name": "stdout",
     "output_type": "stream",
     "text": [
      "[INFO] OCR'ing input image...\n",
      "[INFO] 0.6920: الفصل الأول\n",
      "[INFO] 0.6032: من مجالس\n",
      "[INFO] 0.9921: حي بني\n",
      "[INFO] 0.8590: في\n",
      "[INFO] 0.9873: (ساحة\n",
      "[INFO] 0.6375: يسمرون في أوائل الليلء وفي\n",
      "[INFO] 0.6063: فتية وفتيات من\n",
      "[INFO] 0.6677: في هذه الساحة\n",
      "[INFO] 0.8413: ليلى من خيام\n",
      "[INFO] 0.0000: \n",
      "[INFO] 0.6991: الفتيات صوف ومغازل يلهون بها وهم يتحدثون\n",
      "[INFO] 0.5596: في يد ابن ذريح \n",
      "[INFO] 0.7456: أبيها عند ارتفاع الستار\n",
      "[INFO] 0.7303: ليلى :\n",
      "[INFO] 0.9724: يثرب\n",
      "[INFO] 0.5138: منار الحجاز\n",
      "[INFO] 0.6591: وحيًي معي\n",
      "[INFO] 0.4381: الغزل\n",
      "[INFO] 0.3101: ( تصافحه سلمى\n",
      "[INFO] 0.5386: بمقدمه رحبي\n",
      "[INFO] 0.5633: ويا هند هذا أديب الحجاز\n",
      "[INFO] 0.6075: السامرون )\n",
      "[INFO] 0.4382: ( تصافحه هند ويحتفي\n",
      "[INFO] 0.6728: يثرب : المدينة المنورة.\n",
      "[INFO] 0.9985: أمام\n",
      "[INFO] 0.6292: خيام\n",
      "[INFO] 0.8949: السمر\n",
      "[INFO] 0.4381: عامر\n",
      "[INFO] 0.9701: المهدي\n",
      "[INFO] 0.9915: مجلس\n",
      "[INFO] 0.9998: أيدي\n",
      "[INFO] 0.9993: الحي\n",
      "[INFO] 0.9998: تخرج\n",
      "[INFO] 0.7503: ويدها\n",
      "[INFO] 0.8825: فتى\n",
      "[INFO] 0.5174: سلمى\n",
      "[INFO] 0.9797: دعى\n",
      "[INFO] 0.8123: هلمي\n"
     ]
    }
   ],
   "source": [
    "from ArabicOcr import arabicocr\n",
    "\n",
    "image_path='Book/page2.png'\n",
    "out_image='out.jpg'\n",
    "results=arabicocr.arabic_ocr(image_path,out_image)"
   ]
  },
  {
   "cell_type": "code",
   "execution_count": 50,
   "metadata": {},
   "outputs": [],
   "source": [
    "words=[]\n",
    "for i in range(len(results)):\t\n",
    "\t\tword=results[i][1]\n",
    "\t\twords.append(word)\n",
    "with open ('file.txt','w',encoding='utf-8')as myfile:\n",
    "    for i in range(len(words)):\n",
    "        myfile.write(words[i])\n",
    "        myfile.write('\\n')"
   ]
  },
  {
   "cell_type": "code",
   "execution_count": 2,
   "metadata": {},
   "outputs": [],
   "source": [
    "!pip install elevenlabs -q"
   ]
  },
  {
   "cell_type": "code",
   "execution_count": 3,
   "metadata": {},
   "outputs": [],
   "source": [
    "from elevenlabs import generate  \n",
    "  \n",
    "audio = generate(\"Hello world! This is my first text-to-speech using ElevenLabs.\")\n",
    "\n",
    "from elevenlabs import play  \n",
    "  \n",
    "play(audio)"
   ]
  },
  {
   "cell_type": "code",
   "execution_count": 4,
   "metadata": {},
   "outputs": [
    {
     "name": "stdout",
     "output_type": "stream",
     "text": [
      "voice_id='21m00Tcm4TlvDq8ikWAM' name='Rachel' category='premade' description=None labels={'accent': 'american', 'description': 'calm', 'age': 'young', 'gender': 'female', 'use case': 'narration'} samples=None design=None preview_url='https://storage.googleapis.com/eleven-public-prod/premade/voices/21m00Tcm4TlvDq8ikWAM/df6788f9-5c96-470d-8312-aab3b3d8f50a.mp3' settings=None\n",
      "voice_id='29vD33N1CtxCmqQRPOHJ' name='Drew' category='premade' description=None labels={'accent': 'american', 'description': 'well-rounded', 'age': 'middle aged', 'gender': 'male', 'use case': 'news'} samples=None design=None preview_url='https://storage.googleapis.com/eleven-public-prod/premade/voices/29vD33N1CtxCmqQRPOHJ/e8b52a3f-9732-440f-b78a-16d5e26407a1.mp3' settings=None\n",
      "voice_id='2EiwWnXFnvU5JabPnv8n' name='Clyde' category='premade' description=None labels={'accent': 'american', 'description': 'war veteran', 'age': 'middle aged', 'gender': 'male', 'use case': 'video games'} samples=None design=None preview_url='https://storage.googleapis.com/eleven-public-prod/premade/voices/2EiwWnXFnvU5JabPnv8n/65d80f52-703f-4cae-a91d-75d4e200ed02.mp3' settings=None\n",
      "voice_id='5Q0t7uMcjvnagumLfvZi' name='Paul' category='premade' description=None labels={'accent': 'american', 'description': 'ground reporter', 'age': 'middle aged', 'gender': 'male', 'use case': 'news'} samples=None design=None preview_url='https://storage.googleapis.com/eleven-public-prod/premade/voices/5Q0t7uMcjvnagumLfvZi/1094515a-b080-4282-aac7-b1b8a553a3a8.mp3' settings=None\n",
      "voice_id='AZnzlk1XvdvUeBnXmlld' name='Domi' category='premade' description=None labels={'accent': 'american', 'description': 'strong', 'age': 'young', 'gender': 'female', 'use case': 'narration'} samples=None design=None preview_url='https://storage.googleapis.com/eleven-public-prod/premade/voices/AZnzlk1XvdvUeBnXmlld/508e12d0-a7f7-4d86-a0d3-f3884ff353ed.mp3' settings=None\n",
      "voice_id='CYw3kZ02Hs0563khs1Fj' name='Dave' category='premade' description=None labels={'accent': 'british-essex', 'description': 'conversational', 'age': 'young', 'gender': 'male', 'use case': 'video games'} samples=None design=None preview_url='https://storage.googleapis.com/eleven-public-prod/premade/voices/CYw3kZ02Hs0563khs1Fj/872cb056-45d3-419e-b5c6-de2b387a93a0.mp3' settings=None\n",
      "voice_id='D38z5RcWu1voky8WS1ja' name='Fin' category='premade' description=None labels={'accent': 'irish', 'description': 'sailor', 'age': 'old', 'gender': 'male', 'use case': 'video games'} samples=None design=None preview_url='https://storage.googleapis.com/eleven-public-prod/premade/voices/D38z5RcWu1voky8WS1ja/a470ba64-1e72-46d9-ba9d-030c4155e2d2.mp3' settings=None\n",
      "voice_id='EXAVITQu4vr4xnSDxMaL' name='Sarah' category='premade' description=None labels={'accent': 'american', 'description': 'soft', 'age': 'young', 'gender': 'female', 'use case': 'news'} samples=None design=None preview_url='https://storage.googleapis.com/eleven-public-prod/premade/voices/EXAVITQu4vr4xnSDxMaL/6851ec91-9950-471f-8586-357c52539069.mp3' settings=None\n",
      "voice_id='ErXwobaYiN019PkySvjV' name='Antoni' category='premade' description=None labels={'accent': 'american', 'description': 'well-rounded', 'age': 'young', 'gender': 'male', 'use case': 'narration'} samples=None design=None preview_url='https://storage.googleapis.com/eleven-public-prod/premade/voices/ErXwobaYiN019PkySvjV/ee9ac367-91ee-4a56-818a-2bd1a9dbe83a.mp3' settings=None\n",
      "voice_id='GBv7mTt0atIp3Br8iCZE' name='Thomas' category='premade' description=None labels={'accent': 'american', 'description': 'calm', 'age': 'young', 'gender': 'male', 'use case': 'meditation'} samples=None design=None preview_url='https://storage.googleapis.com/eleven-public-prod/premade/voices/GBv7mTt0atIp3Br8iCZE/98542988-5267-4148-9a9e-baa8c4f14644.mp3' settings=None\n",
      "voice_id='IKne3meq5aSn9XLyUdCD' name='Charlie' category='premade' description=None labels={'accent': 'australian', 'description': 'casual', 'age': 'middle aged', 'gender': 'male', 'use case': 'conversational'} samples=None design=None preview_url='https://storage.googleapis.com/eleven-public-prod/premade/voices/IKne3meq5aSn9XLyUdCD/102de6f2-22ed-43e0-a1f1-111fa75c5481.mp3' settings=None\n",
      "voice_id='JBFqnCBsd6RMkjVDRZzb' name='George' category='premade' description=None labels={'accent': 'british', 'description': 'raspy', 'age': 'middle aged', 'gender': 'male', 'use case': 'narration'} samples=None design=None preview_url='https://storage.googleapis.com/eleven-public-prod/premade/voices/JBFqnCBsd6RMkjVDRZzb/365e8ae8-5364-4b07-9a3b-1bfb4a390248.mp3' settings=None\n",
      "voice_id='LcfcDJNUP1GQjkzn1xUU' name='Emily' category='premade' description=None labels={'accent': 'american', 'description': 'calm', 'age': 'young', 'gender': 'female', 'use case': 'meditation'} samples=None design=None preview_url='https://storage.googleapis.com/eleven-public-prod/premade/voices/LcfcDJNUP1GQjkzn1xUU/e4b994b7-9713-4238-84f3-add8fccaaccd.mp3' settings=None\n",
      "voice_id='MF3mGyEYCl7XYWbV9V6O' name='Elli' category='premade' description=None labels={'accent': 'american', 'description': 'emotional', 'age': 'young', 'gender': 'female', 'use case': 'narration'} samples=None design=None preview_url='https://storage.googleapis.com/eleven-public-prod/premade/voices/MF3mGyEYCl7XYWbV9V6O/d8ecadea-9e48-4e5d-868a-2ec3d7397861.mp3' settings=None\n",
      "voice_id='N2lVS1w4EtoT3dr4eOWO' name='Callum' category='premade' description=None labels={'accent': 'american', 'description': 'hoarse', 'age': 'middle aged', 'gender': 'male', 'use case': 'video games'} samples=None design=None preview_url='https://storage.googleapis.com/eleven-public-prod/premade/voices/N2lVS1w4EtoT3dr4eOWO/ac833bd8-ffda-4938-9ebc-b0f99ca25481.mp3' settings=None\n",
      "voice_id='ODq5zmih8GrVes37Dizd' name='Patrick' category='premade' description=None labels={'accent': 'american', 'description': 'shouty', 'age': 'middle aged', 'gender': 'male', 'use case': 'video games'} samples=None design=None preview_url='https://storage.googleapis.com/eleven-public-prod/premade/voices/ODq5zmih8GrVes37Dizd/0ebec87a-2569-4976-9ea5-0170854411a9.mp3' settings=None\n",
      "voice_id='SOYHLrjzK2X1ezoPC6cr' name='Harry' category='premade' description=None labels={'accent': 'american', 'description': 'anxious', 'age': 'young', 'gender': 'male', 'use case': 'video games'} samples=None design=None preview_url='https://storage.googleapis.com/eleven-public-prod/premade/voices/SOYHLrjzK2X1ezoPC6cr/86d178f6-f4b6-4e0e-85be-3de19f490794.mp3' settings=None\n",
      "voice_id='TX3LPaxmHKxFdv7VOQHJ' name='Liam' category='premade' description=None labels={'accent': 'american', 'age': 'young', 'gender': 'male', 'use case': 'narration', 'description ': 'neutral'} samples=None design=None preview_url='https://storage.googleapis.com/eleven-public-prod/premade/voices/TX3LPaxmHKxFdv7VOQHJ/63148076-6363-42db-aea8-31424308b92c.mp3' settings=None\n",
      "voice_id='ThT5KcBeYPX3keUQqHPh' name='Dorothy' category='premade' description=None labels={'accent': 'british', 'description': 'pleasant', 'age': 'young', 'gender': 'female', 'use case': \"children's stories\"} samples=None design=None preview_url='https://storage.googleapis.com/eleven-public-prod/premade/voices/ThT5KcBeYPX3keUQqHPh/981f0855-6598-48d2-9f8f-b6d92fbbe3fc.mp3' settings=None\n",
      "voice_id='TxGEqnHWrfWFTfGW9XjX' name='Josh' category='premade' description=None labels={'accent': 'american', 'description': 'deep', 'age': 'young', 'gender': 'male', 'use case': 'narration'} samples=None design=None preview_url='https://storage.googleapis.com/eleven-public-prod/premade/voices/TxGEqnHWrfWFTfGW9XjX/3ae2fc71-d5f9-4769-bb71-2a43633cd186.mp3' settings=None\n",
      "voice_id='VR6AewLTigWG4xSOukaG' name='Arnold' category='premade' description=None labels={'accent': 'american', 'description': 'crisp', 'age': 'middle aged', 'gender': 'male', 'use case': 'narration'} samples=None design=None preview_url='https://storage.googleapis.com/eleven-public-prod/premade/voices/VR6AewLTigWG4xSOukaG/316050b7-c4e0-48de-acf9-a882bb7fc43b.mp3' settings=None\n",
      "voice_id='XB0fDUnXU5powFXDhCwa' name='Charlotte' category='premade' description=None labels={'accent': 'english-swedish', 'description': 'seductive', 'age': 'middle aged', 'gender': 'female', 'use case': 'video games'} samples=None design=None preview_url='https://storage.googleapis.com/eleven-public-prod/premade/voices/XB0fDUnXU5powFXDhCwa/942356dc-f10d-4d89-bda5-4f8505ee038b.mp3' settings=None\n",
      "voice_id='XrExE9yKIg1WjnnlVkGX' name='Matilda' category='premade' description=None labels={'accent': 'american', 'description': 'warm', 'age': 'young', 'gender': 'female', 'use case': 'audiobook'} samples=None design=None preview_url='https://storage.googleapis.com/eleven-public-prod/premade/voices/XrExE9yKIg1WjnnlVkGX/b930e18d-6b4d-466e-bab2-0ae97c6d8535.mp3' settings=None\n",
      "voice_id='Yko7PKHZNXotIFUBG7I9' name='Matthew' category='premade' description=None labels={'accent': 'british', 'age': 'middle aged', 'gender': 'male', 'use case': 'audiobook', 'description ': 'calm'} samples=None design=None preview_url='https://storage.googleapis.com/eleven-public-prod/premade/voices/Yko7PKHZNXotIFUBG7I9/02c66c93-a237-436f-8a7d-43e8c49bc6a3.mp3' settings=None\n",
      "voice_id='ZQe5CZNOzWyzPSCn5a3c' name='James' category='premade' description=None labels={'accent': 'australian', 'description': 'calm ', 'age': 'old', 'gender': 'male', 'use case': 'news'} samples=None design=None preview_url='https://storage.googleapis.com/eleven-public-prod/premade/voices/ZQe5CZNOzWyzPSCn5a3c/35734112-7b72-48df-bc2f-64d5ab2f791b.mp3' settings=None\n",
      "voice_id='Zlb1dXrM653N07WRdFW3' name='Joseph' category='premade' description=None labels={'accent': 'british', 'age': 'middle aged', 'gender': 'male', 'use case': 'news', 'description ': 'ground reporter '} samples=None design=None preview_url='https://storage.googleapis.com/eleven-public-prod/premade/voices/Zlb1dXrM653N07WRdFW3/daa22039-8b09-4c65-b59f-c79c48646a72.mp3' settings=None\n",
      "voice_id='bVMeCyTHy58xNoL34h3p' name='Jeremy' category='premade' description=None labels={'accent': 'american-irish', 'description': 'excited', 'age': 'young', 'gender': 'male', 'use case': 'narration'} samples=None design=None preview_url='https://storage.googleapis.com/eleven-public-prod/premade/voices/bVMeCyTHy58xNoL34h3p/66c47d58-26fd-4b30-8a06-07952116a72c.mp3' settings=None\n",
      "voice_id='flq6f7yk4E4fJM5XTYuZ' name='Michael' category='premade' description=None labels={'accent': 'american', 'age': 'old', 'gender': 'male', 'use case': 'audiobook', 'description ': 'orotund'} samples=None design=None preview_url='https://storage.googleapis.com/eleven-public-prod/premade/voices/flq6f7yk4E4fJM5XTYuZ/c6431a82-f7d2-4905-b8a4-a631960633d6.mp3' settings=None\n",
      "voice_id='g5CIjZEefAph4nQFvHAz' name='Ethan' category='premade' description=None labels={'accent': 'american', 'age': 'young', 'gender': 'male', 'use case': 'ASMR', 'description ': 'whisper'} samples=None design=None preview_url='https://storage.googleapis.com/eleven-public-prod/premade/voices/g5CIjZEefAph4nQFvHAz/26acfa99-fdec-43b8-b2ee-e49e75a3ac16.mp3' settings=None\n",
      "voice_id='jBpfuIE2acCO8z3wKNLl' name='Gigi' category='premade' description=None labels={'accent': 'american', 'description': 'childlish', 'age': 'young', 'gender': 'female', 'use case': 'animation'} samples=None design=None preview_url='https://storage.googleapis.com/eleven-public-prod/premade/voices/jBpfuIE2acCO8z3wKNLl/3a7e4339-78fa-404e-8d10-c3ef5587935b.mp3' settings=None\n",
      "voice_id='jsCqWAovK2LkecY7zXl4' name='Freya' category='premade' description=None labels={'accent': 'american', 'age': 'young', 'gender': 'female', 'description ': 'overhyped', 'usecase': 'video games'} samples=None design=None preview_url='https://storage.googleapis.com/eleven-public-prod/premade/voices/jsCqWAovK2LkecY7zXl4/8e1f5240-556e-4fd5-892c-25df9ea3b593.mp3' settings=None\n",
      "voice_id='knrPHWnBmmDHMoiMeP3l' name='🎅 Santa Claus' category='premade' description=None labels={'age': 'old', 'gender': 'male', 'use case': 'christmas'} samples=None design=None preview_url='https://storage.googleapis.com/eleven-public-prod/premade/voices/knrPHWnBmmDHMoiMeP3l/6b454051-3ec2-4a6d-aa2f-1bda2d8c93ea.mp3' settings=None\n",
      "voice_id='oWAxZDx7w5VEj9dCyTzz' name='Grace' category='premade' description=None labels={'accent': 'american-southern', 'age': 'young', 'gender': 'female', 'use case': 'audiobook ', 'description ': 'gentle'} samples=None design=None preview_url='https://storage.googleapis.com/eleven-public-prod/premade/voices/oWAxZDx7w5VEj9dCyTzz/84a36d1c-e182-41a8-8c55-dbdd15cd6e72.mp3' settings=None\n",
      "voice_id='onwK4e9ZLuTAKqWW03F9' name='Daniel' category='premade' description=None labels={'accent': 'british', 'description': 'deep', 'age': 'middle aged', 'gender': 'male', 'use case': 'news presenter'} samples=None design=None preview_url='https://storage.googleapis.com/eleven-public-prod/premade/voices/onwK4e9ZLuTAKqWW03F9/7eee0236-1a72-4b86-b303-5dcadc007ba9.mp3' settings=None\n",
      "voice_id='pFZP5JQG7iQjIQuC4Bku' name='Lily' category='premade' description=None labels={'accent': 'british', 'description': 'raspy', 'age': 'middle aged', 'gender': 'female', 'use case': 'narration'} samples=None design=None preview_url='https://storage.googleapis.com/eleven-public-prod/premade/voices/pFZP5JQG7iQjIQuC4Bku/0ab8bd74-fcd2-489d-b70a-3e1bcde8c999.mp3' settings=None\n",
      "voice_id='pMsXgVXv3BLzUgSXRplE' name='Serena' category='premade' description=None labels={'accent': 'american', 'description': 'pleasant', 'age': 'middle aged', 'gender': 'female', 'use case': 'interactive'} samples=None design=None preview_url='https://storage.googleapis.com/eleven-public-prod/premade/voices/pMsXgVXv3BLzUgSXRplE/d61f18ed-e5b0-4d0b-a33c-5c6e7e33b053.mp3' settings=None\n",
      "voice_id='pNInz6obpgDQGcFmaJgB' name='Adam' category='premade' description=None labels={'accent': 'american', 'description': 'deep', 'age': 'middle aged', 'gender': 'male', 'use case': 'narration'} samples=None design=None preview_url='https://storage.googleapis.com/eleven-public-prod/premade/voices/pNInz6obpgDQGcFmaJgB/38a69695-2ca9-4b9e-b9ec-f07ced494a58.mp3' settings=None\n",
      "voice_id='piTKgcLEGmPE4e6mEKli' name='Nicole' category='premade' description=None labels={'accent': 'american', 'description': 'whisper', 'age': 'young', 'gender': 'female', 'use case': 'audiobook'} samples=None design=None preview_url='https://storage.googleapis.com/eleven-public-prod/premade/voices/piTKgcLEGmPE4e6mEKli/c269a54a-e2bc-44d0-bb46-4ed2666d6340.mp3' settings=None\n",
      "voice_id='pqHfZKP75CvOlQylNhV4' name='Bill' category='premade' description=None labels={'accent': 'american', 'description': 'strong', 'age': 'middle aged', 'gender': 'male', 'use case': 'documentary'} samples=None design=None preview_url='https://storage.googleapis.com/eleven-public-prod/premade/voices/pqHfZKP75CvOlQylNhV4/52f0842a-cf81-4715-8cf0-76cfbd77088e.mp3' settings=None\n",
      "voice_id='t0jbNlBVZ17f02VDIeMI' name='Jessie' category='premade' description=None labels={'accent': 'american', 'description': 'raspy ', 'age': 'old', 'gender': 'male', 'use case': 'video games'} samples=None design=None preview_url='https://storage.googleapis.com/eleven-public-prod/premade/voices/t0jbNlBVZ17f02VDIeMI/e26939e3-61a4-4872-a41d-33922cfbdcdc.mp3' settings=None\n",
      "voice_id='yoZ06aMxZJJ28mfd3POQ' name='Sam' category='premade' description=None labels={'accent': 'american', 'description': 'raspy', 'age': 'young', 'gender': 'male', 'use case': 'narration'} samples=None design=None preview_url='https://storage.googleapis.com/eleven-public-prod/premade/voices/yoZ06aMxZJJ28mfd3POQ/ac9d1c91-92ce-4b20-8cc2-3187a7da49ec.mp3' settings=None\n",
      "voice_id='z9fAnlkpzviPz146aGWa' name='Glinda' category='premade' description=None labels={'accent': 'american', 'description': 'witch', 'age': 'middle aged', 'gender': 'female', 'use case': 'video games'} samples=None design=None preview_url='https://storage.googleapis.com/eleven-public-prod/premade/voices/z9fAnlkpzviPz146aGWa/cbc60443-7b61-4ebb-b8e1-5c03237ea01d.mp3' settings=None\n",
      "voice_id='zcAOhNBS3c14rBihAFp1' name='Giovanni' category='premade' description=None labels={'accent': 'english-italian', 'description': 'foreigner', 'age': 'young', 'gender': 'male', 'use case': 'audiobook'} samples=None design=None preview_url='https://storage.googleapis.com/eleven-public-prod/premade/voices/zcAOhNBS3c14rBihAFp1/e7410f8f-4913-4cb8-8907-784abee5aff8.mp3' settings=None\n",
      "voice_id='zrHiDhphv9ZnVXBqCLjz' name='Mimi' category='premade' description=None labels={'accent': 'english-swedish', 'description': 'childish', 'age': 'young', 'gender': 'female', 'use case': 'animation'} samples=None design=None preview_url='https://storage.googleapis.com/eleven-public-prod/premade/voices/zrHiDhphv9ZnVXBqCLjz/decbf20b-0f57-4fac-985b-a4f0290ebfc4.mp3' settings=None\n"
     ]
    }
   ],
   "source": [
    "from elevenlabs import voices\n",
    "\n",
    "voices = voices()\n",
    "\n",
    "for voice in voices:\n",
    "    print(voice)"
   ]
  },
  {
   "cell_type": "code",
   "execution_count": 5,
   "metadata": {},
   "outputs": [],
   "source": [
    "from elevenlabs import Voice, VoiceSettings, generate, play\n",
    "\n",
    "text = \"\"\"\n",
    "ﻓﺘﻴﺔ وﻓﺘﻴﺎت ﻣﻦ اﻟﺤﻲ ﻳﺴﻤﺮون في أواﺋﻞ اﻟﻠﻴﻞ، وفي أﻳﺪ - في ﻫﺬه اﻟﺴﺎﺣﺔ\n",
    "\"\"\"\n",
    "\n",
    "# voice = Voice(\n",
    "#     name = \"Charlotte\", \n",
    "#     settings = VoiceSettings(\n",
    "\n",
    "#     )\n",
    "# )\n",
    "\n",
    "audio = generate(text, voice=\"Charlotte\", model=\"eleven_multilingual_v2\")\n",
    "\n",
    "play(audio)"
   ]
  },
  {
   "cell_type": "code",
   "execution_count": 9,
   "metadata": {},
   "outputs": [],
   "source": [
    "# Multiple languages  \n",
    "audio_en = generate(\"السلام عليكم\", model=\"eleven_multilingual_v2\")\n",
    "# English\n",
    "audio_mono = generate(\"السلام عليكم\", model=\"eleven_monolingual_v1\")\n",
    "\n",
    "play(audio_en)\n",
    "\n",
    "play(audio_mono)"
   ]
  },
  {
   "cell_type": "code",
   "execution_count": 10,
   "metadata": {},
   "outputs": [
    {
     "ename": "ValueError",
     "evalue": "mpv not found, necessary to stream audio. On mac you can install it with 'brew install mpv'. On linux and windows you can install it from https://mpv.io/",
     "output_type": "error",
     "traceback": [
      "\u001b[1;31m---------------------------------------------------------------------------\u001b[0m",
      "\u001b[1;31mValueError\u001b[0m                                Traceback (most recent call last)",
      "Cell \u001b[1;32mIn[10], line 14\u001b[0m\n\u001b[0;32m      5\u001b[0m     \u001b[38;5;28;01myield\u001b[39;00m \u001b[38;5;124m\"\u001b[39m\u001b[38;5;124mI\u001b[39m\u001b[38;5;124m'\u001b[39m\u001b[38;5;124mm a text to speech API \u001b[39m\u001b[38;5;124m\"\u001b[39m\n\u001b[0;32m      7\u001b[0m audio_stream \u001b[38;5;241m=\u001b[39m generate(\n\u001b[0;32m      8\u001b[0m     text\u001b[38;5;241m=\u001b[39mtext_stream(),\n\u001b[0;32m      9\u001b[0m     voice\u001b[38;5;241m=\u001b[39m\u001b[38;5;124m\"\u001b[39m\u001b[38;5;124mNicole\u001b[39m\u001b[38;5;124m\"\u001b[39m,\n\u001b[0;32m     10\u001b[0m     model\u001b[38;5;241m=\u001b[39m\u001b[38;5;124m\"\u001b[39m\u001b[38;5;124meleven_monolingual_v1\u001b[39m\u001b[38;5;124m\"\u001b[39m,\n\u001b[0;32m     11\u001b[0m     stream\u001b[38;5;241m=\u001b[39m\u001b[38;5;28;01mTrue\u001b[39;00m\n\u001b[0;32m     12\u001b[0m )\n\u001b[1;32m---> 14\u001b[0m \u001b[43mstream\u001b[49m\u001b[43m(\u001b[49m\u001b[43maudio_stream\u001b[49m\u001b[43m)\u001b[49m\n",
      "File \u001b[1;32mc:\\Users\\ASUS\\AppData\\Local\\Programs\\Python\\Python312\\Lib\\site-packages\\elevenlabs\\utils.py:62\u001b[0m, in \u001b[0;36mstream\u001b[1;34m(audio_stream)\u001b[0m\n\u001b[0;32m     56\u001b[0m \u001b[38;5;28;01mif\u001b[39;00m \u001b[38;5;129;01mnot\u001b[39;00m is_installed(\u001b[38;5;124m\"\u001b[39m\u001b[38;5;124mmpv\u001b[39m\u001b[38;5;124m\"\u001b[39m):\n\u001b[0;32m     57\u001b[0m     message \u001b[38;5;241m=\u001b[39m (\n\u001b[0;32m     58\u001b[0m         \u001b[38;5;124m\"\u001b[39m\u001b[38;5;124mmpv not found, necessary to stream audio. \u001b[39m\u001b[38;5;124m\"\u001b[39m\n\u001b[0;32m     59\u001b[0m         \u001b[38;5;124m\"\u001b[39m\u001b[38;5;124mOn mac you can install it with \u001b[39m\u001b[38;5;124m'\u001b[39m\u001b[38;5;124mbrew install mpv\u001b[39m\u001b[38;5;124m'\u001b[39m\u001b[38;5;124m. \u001b[39m\u001b[38;5;124m\"\u001b[39m\n\u001b[0;32m     60\u001b[0m         \u001b[38;5;124m\"\u001b[39m\u001b[38;5;124mOn linux and windows you can install it from https://mpv.io/\u001b[39m\u001b[38;5;124m\"\u001b[39m\n\u001b[0;32m     61\u001b[0m     )\n\u001b[1;32m---> 62\u001b[0m     \u001b[38;5;28;01mraise\u001b[39;00m \u001b[38;5;167;01mValueError\u001b[39;00m(message)\n\u001b[0;32m     64\u001b[0m mpv_command \u001b[38;5;241m=\u001b[39m [\u001b[38;5;124m\"\u001b[39m\u001b[38;5;124mmpv\u001b[39m\u001b[38;5;124m\"\u001b[39m, \u001b[38;5;124m\"\u001b[39m\u001b[38;5;124m--no-cache\u001b[39m\u001b[38;5;124m\"\u001b[39m, \u001b[38;5;124m\"\u001b[39m\u001b[38;5;124m--no-terminal\u001b[39m\u001b[38;5;124m\"\u001b[39m, \u001b[38;5;124m\"\u001b[39m\u001b[38;5;124m--\u001b[39m\u001b[38;5;124m\"\u001b[39m, \u001b[38;5;124m\"\u001b[39m\u001b[38;5;124mfd://0\u001b[39m\u001b[38;5;124m\"\u001b[39m]\n\u001b[0;32m     65\u001b[0m mpv_process \u001b[38;5;241m=\u001b[39m subprocess\u001b[38;5;241m.\u001b[39mPopen(\n\u001b[0;32m     66\u001b[0m     mpv_command,\n\u001b[0;32m     67\u001b[0m     stdin\u001b[38;5;241m=\u001b[39msubprocess\u001b[38;5;241m.\u001b[39mPIPE,\n\u001b[0;32m     68\u001b[0m     stdout\u001b[38;5;241m=\u001b[39msubprocess\u001b[38;5;241m.\u001b[39mDEVNULL,\n\u001b[0;32m     69\u001b[0m     stderr\u001b[38;5;241m=\u001b[39msubprocess\u001b[38;5;241m.\u001b[39mDEVNULL,\n\u001b[0;32m     70\u001b[0m )\n",
      "\u001b[1;31mValueError\u001b[0m: mpv not found, necessary to stream audio. On mac you can install it with 'brew install mpv'. On linux and windows you can install it from https://mpv.io/"
     ]
    }
   ],
   "source": [
    "from elevenlabs import generate, stream\n",
    "\n",
    "def text_stream():\n",
    "    yield \"Hi there, I'm Eleven \"\n",
    "    yield \"I'm a text to speech API \"\n",
    "\n",
    "audio_stream = generate(\n",
    "    text=text_stream(),\n",
    "    voice=\"Nicole\",\n",
    "    model=\"eleven_monolingual_v1\",\n",
    "    stream=True\n",
    ")\n",
    "\n",
    "stream(audio_stream)"
   ]
  },
  {
   "cell_type": "code",
   "execution_count": 11,
   "metadata": {},
   "outputs": [],
   "source": [
    "import requests\n",
    "\n",
    "url = \"https://api.elevenlabs.io/v1/text-to-speech/XB0fDUnXU5powFXDhCwa/stream\"\n",
    "\n",
    "payload = {\n",
    "    \"model_id\": \"eleven_multilingual_v2\",\n",
    "    \"text\": \"هذا النص هو مثال لنص يمكن أن يستبدل في نفس المساحة، لقد تم توليد هذا النص من مولد النص العربى، حيث يمكنك أن تولد مثل هذا النص أو العديد من النصوص الأخرى إضافة إلى زيادة عدد الحروف التى يولدها التطبيق.\"\n",
    "}\n",
    "headers = {\"Content-Type\": \"application/json\"}\n",
    "\n",
    "response = requests.request(\"POST\", url, json=payload, headers=headers)\n"
   ]
  }
 ],
 "metadata": {
  "kernelspec": {
   "display_name": "Python 3",
   "language": "python",
   "name": "python3"
  },
  "language_info": {
   "codemirror_mode": {
    "name": "ipython",
    "version": 3
   },
   "file_extension": ".py",
   "mimetype": "text/x-python",
   "name": "python",
   "nbconvert_exporter": "python",
   "pygments_lexer": "ipython3",
   "version": "3.12.1"
  }
 },
 "nbformat": 4,
 "nbformat_minor": 2
}
