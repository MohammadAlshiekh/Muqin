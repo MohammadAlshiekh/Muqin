{
 "cells": [
  {
   "cell_type": "code",
   "execution_count": 2,
   "metadata": {},
   "outputs": [
    {
     "name": "stdout",
     "output_type": "stream",
     "text": [
      "MoviePy - Writing audio in WatsonIntro.mp3\n"
     ]
    },
    {
     "name": "stderr",
     "output_type": "stream",
     "text": [
      "                                                                      "
     ]
    },
    {
     "name": "stdout",
     "output_type": "stream",
     "text": [
      "MoviePy - Done.\n",
      "Combined audio file saved successfully.\n"
     ]
    },
    {
     "name": "stderr",
     "output_type": "stream",
     "text": [
      "\r"
     ]
    }
   ],
   "source": [
    "# combine all the audio files into one\n",
    "from moviepy.editor import concatenate_audioclips, AudioClip, AudioFileClip\n",
    "import numpy as np\n",
    "\n",
    "audio_clips = []\n",
    "\n",
    "# Load all the audio files\n",
    "for i in range(22):\n",
    "    audio_clips.append(AudioFileClip(f\"{i}.mp3\"))\n",
    "\n",
    "# Function to create a silent audio clip of a specified duration\n",
    "def make_silent_clip(duration):\n",
    "    # Creating a silent clip. This function generates silence.\n",
    "    return AudioClip(lambda t: np.zeros(1), duration=duration, fps=44100)\n",
    "\n",
    "# Duration of the pause in seconds\n",
    "pause_duration = 0.5\n",
    "\n",
    "# Create silent clips for pauses\n",
    "silent_clip = make_silent_clip(pause_duration)\n",
    "\n",
    "# Insert silent clips between the audio clips\n",
    "audio_clips_with_pause = [\n",
    "    clip for pair in zip(\n",
    "        audio_clips, [silent_clip] * (len(audio_clips) - 1)) for clip in pair\n",
    "] + [audio_clips[-1]]\n",
    "\n",
    "# Concatenate all clips including the silent ones\n",
    "final_audio = concatenate_audioclips(audio_clips_with_pause)\n",
    "\n",
    "final_audio.write_audiofile(\"WatsonIntro.mp3\")\n",
    "print(\"Combined audio file saved successfully.\")"
   ]
  },
  {
   "cell_type": "code",
   "execution_count": null,
   "metadata": {},
   "outputs": [],
   "source": []
  }
 ],
 "metadata": {
  "kernelspec": {
   "display_name": "Python 3",
   "language": "python",
   "name": "python3"
  },
  "language_info": {
   "codemirror_mode": {
    "name": "ipython",
    "version": 3
   },
   "file_extension": ".py",
   "mimetype": "text/x-python",
   "name": "python",
   "nbconvert_exporter": "python",
   "pygments_lexer": "ipython3",
   "version": "3.12.1"
  }
 },
 "nbformat": 4,
 "nbformat_minor": 2
}
