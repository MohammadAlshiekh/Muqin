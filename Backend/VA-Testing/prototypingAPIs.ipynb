{
 "cells": [
  {
   "cell_type": "code",
   "execution_count": 1,
   "metadata": {},
   "outputs": [],
   "source": [
    "!pip install elevenlabs -q"
   ]
  },
  {
   "cell_type": "code",
   "execution_count": 2,
   "metadata": {},
   "outputs": [],
   "source": [
    "import requests\n",
    "\n",
    "url = \"https://api.elevenlabs.io/v1/text-to-speech/XB0fDUnXU5powFXDhCwa\"\n",
    "\n",
    "payload = {\n",
    "    \"model_id\": \"eleven_multilingual_v2\",\n",
    "    \"text\": \"السلام عليكم\"\n",
    "}\n",
    "headers = {\n",
    "    \"xi-api-key\": \"06aeb74aa88eac74ea6e60aadc360001\",  # Replace YOUR_API_KEY with your actual API key\n",
    "    \"Content-Type\": \"application/json\"\n",
    "}\n",
    "\n",
    "response = requests.post(url, json=payload, headers=headers)\n",
    "\n",
    "# Assuming the response contains binary audio data\n",
    "if response.status_code == 200:\n",
    "    with open(\"output_audio.mp3\", \"wb\") as audio_file:\n",
    "        audio_file.write(response.content)\n",
    "    print(\"Audio file saved successfully.\")\n",
    "else:\n",
    "    print(\"Failed to retrieve audio. Status code:\", response.status_code)"
   ]
  },
  {
   "cell_type": "code",
   "execution_count": null,
   "metadata": {},
   "outputs": [],
   "source": []
  }
 ],
 "metadata": {
  "kernelspec": {
   "display_name": "Python 3",
   "language": "python",
   "name": "python3"
  },
  "language_info": {
   "codemirror_mode": {
    "name": "ipython",
    "version": 3
   },
   "file_extension": ".py",
   "mimetype": "text/x-python",
   "name": "python",
   "nbconvert_exporter": "python",
   "pygments_lexer": "ipython3",
   "version": "3.10.12"
  }
 },
 "nbformat": 4,
 "nbformat_minor": 2
}
